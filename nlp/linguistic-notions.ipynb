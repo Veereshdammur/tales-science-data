{
 "cells": [
  {
   "cell_type": "code",
   "execution_count": 1,
   "metadata": {},
   "outputs": [
    {
     "data": {
      "text/html": [
       "<style>\n",
       "\n",
       "    /* DOWNLOAD COMPUTER MODERN FONT JUST IN CASE */\n",
       "    @font-face {\n",
       "        font-family: \"Computer Modern\";\n",
       "        src: url('http://9dbb143991406a7c655e-aa5fcb0a5a4ec34cff238a2d56ca4144.r56.cf5.rackcdn.com/cmunss.otf');\n",
       "    }\n",
       "    @font-face {\n",
       "        font-family: \"Computer Modern\";\n",
       "        font-weight: bold;\n",
       "        src: url('http://9dbb143991406a7c655e-aa5fcb0a5a4ec34cff238a2d56ca4144.r56.cf5.rackcdn.com/cmunsx.otf');\n",
       "    }\n",
       "    @font-face {\n",
       "        font-family: \"Computer Modern\";\n",
       "        font-style: oblique;\n",
       "        src: url('http://9dbb143991406a7c655e-aa5fcb0a5a4ec34cff238a2d56ca4144.r56.cf5.rackcdn.com/cmunsi.otf');\n",
       "    }\n",
       "    @font-face {\n",
       "        font-family: \"Computer Modern\";\n",
       "        font-weight: bold;\n",
       "        font-style: oblique;\n",
       "        src: url('http://9dbb143991406a7c655e-aa5fcb0a5a4ec34cff238a2d56ca4144.r56.cf5.rackcdn.com/cmunso.otf');\n",
       "    }\n",
       "\n",
       "    /* GLOBAL TEXT FONT */\n",
       "    div#notebook,\n",
       "    div.output_area pre,\n",
       "    div.output_wrapper,\n",
       "    div.prompt {\n",
       "      font-family: Times new Roman, monospace !important;\n",
       "    }\n",
       "\n",
       "    /* CENTER FIGURE */\n",
       "    .output_png {\n",
       "        display: table-cell;\n",
       "        text-align: center;\n",
       "        vertical-align: middle;\n",
       "    }\n",
       "\n",
       "    /* LINK */\n",
       "    a {\n",
       "        color: #FF8000;\n",
       "    }\n",
       "\n",
       "    /* H1 */\n",
       "    h1 {\n",
       "        font-size: 42px !important;\n",
       "        text-align: center;\n",
       "        color: #FF8000;\n",
       "    }\n",
       "\n",
       "    /* H2 */\n",
       "    h2 {\n",
       "        font-size: 32px !important;\n",
       "    }\n",
       "\n",
       "    /* H2 */\n",
       "    h3 {\n",
       "        font-size: 24px !important;\n",
       "    }\n",
       "\n",
       "    /* H2 */\n",
       "    h4 {\n",
       "        font-size: 20px !important;\n",
       "    }\n",
       "\n",
       "    /* PARAGRAPH */\n",
       "    p {\n",
       "        font-size: 16px !important;\n",
       "        text-align: center;\n",
       "    }\n",
       "\n",
       "    /* LIST ITEM */\n",
       "    li {\n",
       "        font-size: 16px !important;\n",
       "    }\n",
       "\n",
       "</style>\n",
       "\n"
      ],
      "text/plain": [
       "<IPython.core.display.HTML object>"
      ]
     },
     "execution_count": 1,
     "metadata": {},
     "output_type": "execute_result"
    }
   ],
   "source": [
    "from common.setup_notebook import set_css_style\n",
    "set_css_style()"
   ]
  },
  {
   "cell_type": "markdown",
   "metadata": {},
   "source": [
    "# <center> Linguistic Notions"
   ]
  },
  {
   "cell_type": "markdown",
   "metadata": {},
   "source": [
    "### Antonyms & Synonyms\n",
    "\n",
    "**Antonyms** are words with opposite semantic meaning; **synonyms** are words with the same semantic meaning.\n",
    "\n",
    "*Examples*:\n",
    "\n",
    "* beautiful/ugly (**A**); beatiful/pretty (**S**)\n",
    "* big/small (**A**); big/large (**S**)"
   ]
  },
  {
   "cell_type": "markdown",
   "metadata": {},
   "source": [
    "### Collocation\n",
    "\n",
    "A **collocation** is a series of words which, in a text, occurs more often than it would by simple chance. Phrasal verbs in English are good examples.\n",
    "\n",
    "*Examples*:\n",
    "\n",
    "* white wine\n",
    "* go out\n",
    "* come in\n",
    "* ..."
   ]
  },
  {
   "cell_type": "markdown",
   "metadata": {},
   "source": [
    "### Entailment\n",
    "\n",
    "**Entailment** is logical consequence. A sentence is entailed by another one if it logically follows it.\n",
    "\n",
    "*Examples*:\n",
    "\n",
    "* I woke up. I am awake. \n",
    "* He sleeps. He snores. (*he cannot snore without sleeping*)"
   ]
  },
  {
   "cell_type": "markdown",
   "metadata": {},
   "source": [
    "### Hapax Legomenon\n",
    "\n",
    "An **hapax legomenon** is a word or expression which appears only once in a text."
   ]
  },
  {
   "cell_type": "markdown",
   "metadata": {},
   "source": [
    "### Hypernyms & Hyponyms\n",
    "\n",
    "An word $w_1$ is a **hypernym** of another word $w_2$ if $w_2$ is a kind of $w_1$, that is, if there is a downward hierarchical relation from $w_1$ to $w_2$.\n",
    "\n",
    "*Examples*:\n",
    "\n",
    "* \"mammal\" is an hypernym of \"kangaroo\"\n",
    "* \"food\" is an hypernym of \"pasta\"\n",
    "\n",
    "On the other hand, a word $w_1$ is an **hyponym** of a word $w_2$ if the hierarchical relationship is reversed, that is, if $w_1$ is contained in the concept of $w_2$.\n",
    "\n",
    "*Examples*:\n",
    "\n",
    "* \"carrot\" is an hyponym of \"vegetable\"\n",
    "* \"cotton\" is an hyponym of \"textile\""
   ]
  },
  {
   "cell_type": "markdown",
   "metadata": {},
   "source": [
    "### Noun Phrase (NP)\n",
    "\n",
    "The NP is a phrase containing a noun or pronoun as the head, or a group of tokens with noun function. It can be replaced with a single pronoun without loss of grammatical validity.\n",
    "\n",
    "*Examples* (NP highlighted in **bold**):\n",
    "\n",
    "* The **school** is there.\n",
    "* The **cranberry-based yoghurt** is delicious for **young children**.\n",
    "* There can be **several noun phrases** in **a single sentence**.\n",
    "* **He** saw **someone**."
   ]
  },
  {
   "cell_type": "markdown",
   "metadata": {},
   "source": [
    "### Meronyms & Holonyms\n",
    "\n",
    "A word $w_1$ is a **meronym** of a word $w_2$ if it describes something which is a constituent part of it.\n",
    "\n",
    "*Examples*:\n",
    "\n",
    "* \"toe\" is a meronym of \"foot\"\n",
    "* \"door\" is a meronym of \"house\"\n",
    "\n",
    "\n",
    "On the other hand, a **holonym** is the opposite concept: a word which describes the whole thing.\n",
    "\n",
    "*Examples*:\n",
    "\n",
    "* \"flower\" is a holonym of \"petal\"\n",
    "* \"shirt\" is a holonym of \"button\""
   ]
  },
  {
   "cell_type": "markdown",
   "metadata": {},
   "source": [
    "### Synset\n",
    "\n",
    "A **synset** (synonym set) is a group of synonyms."
   ]
  },
  {
   "cell_type": "markdown",
   "metadata": {},
   "source": [
    "### Tokens & Types\n",
    "\n",
    "A **token** is the instace of a concept, while the **type** is the word representing the overarching concept. \n",
    "\n",
    "For nouns, they can be singular and plural: the token would represent any occurrence of the word while the type the stemmed version of it, so that singular and plural are collapsed into the same type.\n",
    "\n",
    "For verbs, they can be conjugated in all tenses, so that each inflected verb is a token of the same type.\n",
    "\n",
    "Similarly to all other grammatical categories.\n",
    "\n",
    "Sentence \"The cat chases the mouse, cats chase mice.\" contains tokens [\"the\", \"cat\", \"chases\", \"the\", \"mouse\", \"cats\", \"chase\", \"mice\"] and types [\"the\", \"cat\", \"chase\", \"the\", \"mouse\", \"cat\", \"chase\", \"mice\"], so the number of unique types is smaller than the number of unique tokens."
   ]
  },
  {
   "cell_type": "markdown",
   "metadata": {
    "collapsed": true
   },
   "source": [
    "### Stopwords\n",
    "\n",
    "Stopwords are those words in natural language which carry no own meaning and serve the purpose of connecting other words together to create grammatical sentences. They are essential components of grammar and needed for effective communication, but do not have semantic significance. Best examples are articles (\"the\", \"a\", ...), personal pronouns (\"I\", \"me\", \"you\", ...) or prepositions (\"in\", \"on\", \"to\", ...). Usually modal verbs and auxiliaries are there as well. \n",
    "\n",
    "I wrote a post [[1]](#stopwords-post) about how to get them (and the differences) in different Python libraries."
   ]
  },
  {
   "cell_type": "markdown",
   "metadata": {},
   "source": [
    "## References\n",
    "\n",
    "1. <a name=\"stopwords-post\"></a> A [post](https://martinapugliese.github.io/english-stopwords/) on my blog about English stopwords and Python libraries"
   ]
  },
  {
   "cell_type": "code",
   "execution_count": null,
   "metadata": {
    "collapsed": true
   },
   "outputs": [],
   "source": []
  }
 ],
 "metadata": {
  "kernelspec": {
   "display_name": "Python 3",
   "language": "python",
   "name": "python3"
  },
  "language_info": {
   "codemirror_mode": {
    "name": "ipython",
    "version": 3
   },
   "file_extension": ".py",
   "mimetype": "text/x-python",
   "name": "python",
   "nbconvert_exporter": "python",
   "pygments_lexer": "ipython3",
   "version": "3.6.1"
  }
 },
 "nbformat": 4,
 "nbformat_minor": 2
}
