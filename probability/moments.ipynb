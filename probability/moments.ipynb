{
 "cells": [
  {
   "cell_type": "code",
   "execution_count": 1,
   "metadata": {
    "collapsed": false,
    "deletable": true,
    "editable": true
   },
   "outputs": [
    {
     "data": {
      "text/html": [
       "<style>\n",
       "\n",
       "    /* DOWNLOAD COMPUTER MODERN FONT JUST IN CASE */\n",
       "    @font-face {\n",
       "        font-family: \"Computer Modern\";\n",
       "        src: url('http://9dbb143991406a7c655e-aa5fcb0a5a4ec34cff238a2d56ca4144.r56.cf5.rackcdn.com/cmunss.otf');\n",
       "    }\n",
       "    @font-face {\n",
       "        font-family: \"Computer Modern\";\n",
       "        font-weight: bold;\n",
       "        src: url('http://9dbb143991406a7c655e-aa5fcb0a5a4ec34cff238a2d56ca4144.r56.cf5.rackcdn.com/cmunsx.otf');\n",
       "    }\n",
       "    @font-face {\n",
       "        font-family: \"Computer Modern\";\n",
       "        font-style: oblique;\n",
       "        src: url('http://9dbb143991406a7c655e-aa5fcb0a5a4ec34cff238a2d56ca4144.r56.cf5.rackcdn.com/cmunsi.otf');\n",
       "    }\n",
       "    @font-face {\n",
       "        font-family: \"Computer Modern\";\n",
       "        font-weight: bold;\n",
       "        font-style: oblique;\n",
       "        src: url('http://9dbb143991406a7c655e-aa5fcb0a5a4ec34cff238a2d56ca4144.r56.cf5.rackcdn.com/cmunso.otf');\n",
       "    }\n",
       "\n",
       "    /* GLOBAL TEXT FONT */\n",
       "    div#notebook,\n",
       "    div.output_area pre,\n",
       "    div.output_wrapper,\n",
       "    div.prompt {\n",
       "      font-family: Times new Roman, monospace !important;\n",
       "    }\n",
       "\n",
       "    /* CENTER FIGURE */\n",
       "    .output_png {\n",
       "        display: table-cell;\n",
       "        text-align: center;\n",
       "        vertical-align: middle;\n",
       "    }\n",
       "\n",
       "    /* LINK */\n",
       "    a {\n",
       "        color: #FF8000;\n",
       "    }\n",
       "\n",
       "    /* H1 */\n",
       "    h1 {\n",
       "        font-size: 42px !important;\n",
       "        text-align: center;\n",
       "        color: #FF8000;\n",
       "    }\n",
       "\n",
       "    /* H2 */\n",
       "    h2 {\n",
       "        font-size: 32px !important;\n",
       "    }\n",
       "\n",
       "    /* H2 */\n",
       "    h3 {\n",
       "        font-size: 24px !important;\n",
       "    }\n",
       "\n",
       "    /* H2 */\n",
       "    h4 {\n",
       "        font-size: 20px !important;\n",
       "    }\n",
       "\n",
       "    /* PARAGRAPH */\n",
       "    p {\n",
       "        font-size: 16px !important;\n",
       "        text-align: center;\n",
       "    }\n",
       "\n",
       "\n",
       "\n",
       "</style>\n",
       "\n"
      ],
      "text/plain": [
       "<IPython.core.display.HTML object>"
      ]
     },
     "execution_count": 1,
     "metadata": {},
     "output_type": "execute_result"
    }
   ],
   "source": [
    "from common.setup_notebook import set_css_style\n",
    "set_css_style()"
   ]
  },
  {
   "cell_type": "markdown",
   "metadata": {
    "deletable": true,
    "editable": true
   },
   "source": [
    "# <center> Moments of a distribution"
   ]
  },
  {
   "cell_type": "markdown",
   "metadata": {
    "deletable": true,
    "editable": true
   },
   "source": [
    "## Expected Value"
   ]
  },
  {
   "cell_type": "markdown",
   "metadata": {
    "deletable": true,
    "editable": true
   },
   "source": [
    "* *Linearity*: \n",
    "\n",
    "> TODO proof"
   ]
  },
  {
   "cell_type": "markdown",
   "metadata": {
    "deletable": true,
    "editable": true
   },
   "source": [
    "## Variance"
   ]
  },
  {
   "cell_type": "markdown",
   "metadata": {
    "deletable": true,
    "editable": true
   },
   "source": [
    "### Variance of a matrix of constant times a random vector"
   ]
  },
  {
   "cell_type": "markdown",
   "metadata": {
    "collapsed": true,
    "deletable": true,
    "editable": true
   },
   "source": [
    "In general, with a matrix of constants $\\mathbf{X}$ and a vector of observations (random variables) $\\mathbf{a}$, using the linearity of the expected value so that $\\mathbb{E}[\\mathbf{X a}] = \\mathbf{X} \\mathbb{E}[\\mathbf{a}]$, we have\n",
    "\n",
    "$$\n",
    "\\begin{align}\n",
    "    Var[\\mathbf{X a}] &= \\mathbb{E}[(\\mathbf{X a} - \\mathbb{E}[\\mathbf{X a}])^2] \\\\\n",
    "                      &= \\mathbb{E}[(\\mathbf{X a} - \\mathbb{E}[\\mathbf{X a}])(\\mathbf{X a} - \\mathbb{E}[\\mathbf{X a}])^t] \\\\ \n",
    "                      &= \\mathbb{E}[(\\mathbf{X a} - \\mathbf{X}\\mathbb{E}[\\mathbf{a}])(\\mathbf{X a} - \\mathbf{X}\\mathbb{E}[\\mathbf{a}])^t] \\\\\n",
    "                      &= \\mathbb{E}[(\\mathbf{X a} - \\mathbf{X}\\mathbb{E}[\\mathbf{a}])((\\mathbf{X a})^t - (\\mathbf{X}\\mathbb{E}[\\mathbf{a}])^t)] \\\\\n",
    "                      &= \\mathbb{E}[\\mathbf{Xa}\\mathbf{a}^t\\mathbf{X}^t - \\mathbf{Xa} \\mathbb{E}[\\mathbf{a}]^t \\mathbf{X}^t - \\mathbf{X} \\mathbb{E}[\\mathbf{a}]\\mathbf{a}^t\\mathbf{X}^t + \\mathbf{X} \\mathbb{E}[\\mathbf{a}] \\mathbb{E}[\\mathbf{a}]^t\\mathbf{X}^t] \\\\\n",
    "                      &=  \\mathbf{X} \\mathbb{E}[\\mathbf{a}\\mathbf{a}^t] \\mathbf{X}^t - \\mathbf{X} \\mathbb{E}[\\mathbf{a}] \\mathbb{E}[\\mathbf{a}]^t \\mathbf{X}^t - \\mathbf{X} \\mathbb{E}[\\mathbf{a}] \\mathbb{E}[\\mathbf{a}^t] \\mathbf{X}^t + \\mathbf{X} \\mathbb{E}[\\mathbf{a}] \\mathbb{E}[\\mathbf{a}^t] \\mathbf{X}^t \\\\\n",
    "                      &= \\mathbf{X} \\mathbb{E}[\\mathbf{a}\\mathbf{a}^t] \\mathbf{X}^t - 2 \\mathbf{X} \\mathbb{E}[\\mathbf{a}] \\mathbb{E}[\\mathbf{a}]^t \\mathbf{X}^t + \\mathbf{X} \\mathbb{E}[\\mathbf{a}] \\mathbb{E}[\\mathbf{a}^t] \\mathbf{X}^t = \\\\\n",
    "                      &= \\mathbf{X} (\\mathbb{E}[\\mathbf{a} \\mathbf{a}^t] - \\mathbb{E}[\\mathbf{a}] \\mathbb{E}[\\mathbf{a}^t]) \\mathbf{X}^t = \\\\\n",
    "                      &= \\mathbf{X} Var[\\mathbf{a}] \\mathbf{X}^t\n",
    "\\end{align}\n",
    "$$"
   ]
  },
  {
   "cell_type": "code",
   "execution_count": null,
   "metadata": {
    "collapsed": true,
    "deletable": true,
    "editable": true
   },
   "outputs": [],
   "source": []
  }
 ],
 "metadata": {
  "kernelspec": {
   "display_name": "Python 3",
   "language": "python",
   "name": "python3"
  },
  "language_info": {
   "codemirror_mode": {
    "name": "ipython",
    "version": 3
   },
   "file_extension": ".py",
   "mimetype": "text/x-python",
   "name": "python",
   "nbconvert_exporter": "python",
   "pygments_lexer": "ipython3",
   "version": "3.6.0"
  }
 },
 "nbformat": 4,
 "nbformat_minor": 2
}
