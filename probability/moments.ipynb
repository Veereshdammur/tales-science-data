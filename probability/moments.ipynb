{
 "cells": [
  {
   "cell_type": "code",
   "execution_count": 1,
   "metadata": {
    "collapsed": false,
    "deletable": true,
    "editable": true
   },
   "outputs": [
    {
     "data": {
      "text/html": [
       "<style>\n",
       "\n",
       "    /* DOWNLOAD COMPUTER MODERN FONT JUST IN CASE */\n",
       "    @font-face {\n",
       "        font-family: \"Computer Modern\";\n",
       "        src: url('http://9dbb143991406a7c655e-aa5fcb0a5a4ec34cff238a2d56ca4144.r56.cf5.rackcdn.com/cmunss.otf');\n",
       "    }\n",
       "    @font-face {\n",
       "        font-family: \"Computer Modern\";\n",
       "        font-weight: bold;\n",
       "        src: url('http://9dbb143991406a7c655e-aa5fcb0a5a4ec34cff238a2d56ca4144.r56.cf5.rackcdn.com/cmunsx.otf');\n",
       "    }\n",
       "    @font-face {\n",
       "        font-family: \"Computer Modern\";\n",
       "        font-style: oblique;\n",
       "        src: url('http://9dbb143991406a7c655e-aa5fcb0a5a4ec34cff238a2d56ca4144.r56.cf5.rackcdn.com/cmunsi.otf');\n",
       "    }\n",
       "    @font-face {\n",
       "        font-family: \"Computer Modern\";\n",
       "        font-weight: bold;\n",
       "        font-style: oblique;\n",
       "        src: url('http://9dbb143991406a7c655e-aa5fcb0a5a4ec34cff238a2d56ca4144.r56.cf5.rackcdn.com/cmunso.otf');\n",
       "    }\n",
       "\n",
       "    /* GLOBAL TEXT FONT */\n",
       "    div#notebook,\n",
       "    div.output_area pre,\n",
       "    div.output_wrapper,\n",
       "    div.prompt {\n",
       "      font-family: Times new Roman, monospace !important;\n",
       "    }\n",
       "\n",
       "    /* CENTER FIGURE */\n",
       "    .output_png {\n",
       "        display: table-cell;\n",
       "        text-align: center;\n",
       "        vertical-align: middle;\n",
       "    }\n",
       "\n",
       "    /* LINK */\n",
       "    a {\n",
       "        color: #FF8000;\n",
       "    }\n",
       "\n",
       "    /* H1 */\n",
       "    h1 {\n",
       "        font-size: 42px !important;\n",
       "        text-align: center;\n",
       "        color: #FF8000;\n",
       "    }\n",
       "\n",
       "    /* H2 */\n",
       "    h2 {\n",
       "        font-size: 32px !important;\n",
       "    }\n",
       "\n",
       "    /* H2 */\n",
       "    h3 {\n",
       "        font-size: 24px !important;\n",
       "    }\n",
       "\n",
       "    /* H2 */\n",
       "    h4 {\n",
       "        font-size: 20px !important;\n",
       "    }\n",
       "\n",
       "    /* PARAGRAPH */\n",
       "    p {\n",
       "        font-size: 16px !important;\n",
       "        text-align: center;\n",
       "    }\n",
       "\n",
       "\n",
       "\n",
       "</style>\n",
       "\n"
      ],
      "text/plain": [
       "<IPython.core.display.HTML object>"
      ]
     },
     "execution_count": 1,
     "metadata": {},
     "output_type": "execute_result"
    }
   ],
   "source": [
    "from common.setup_notebook import set_css_style\n",
    "set_css_style()"
   ]
  },
  {
   "cell_type": "markdown",
   "metadata": {
    "deletable": true,
    "editable": true
   },
   "source": [
    "# <center> Moments of a distribution and related quantities"
   ]
  },
  {
   "cell_type": "markdown",
   "metadata": {
    "deletable": true,
    "editable": true
   },
   "source": [
    "In the following, we will use $X$ to represent a random variable living in sample space (the space of all possible values it can assume) $\\Omega$.\n",
    "\n",
    "In the discrete case, the probability of each value $x_i$ will be represented as $p_i$; in the continuous case $p(x) = P(X=x)$ will be the probability density function.\n",
    "\n",
    "Let's start with mean and variance and then we'll then give the general definitions."
   ]
  },
  {
   "cell_type": "markdown",
   "metadata": {
    "deletable": true,
    "editable": true
   },
   "source": [
    "## Expected Value"
   ]
  },
  {
   "cell_type": "markdown",
   "metadata": {
    "deletable": true,
    "editable": true
   },
   "source": [
    "The **expected value**, or **expectation**, or **mean value** is defined, in the *continuous* case as\n",
    "\n",
    "$$\n",
    "\\mathbb{E}[X] = \\int_\\Omega \\text{d} x \\ x p(x) \\ ,\n",
    "$$\n",
    "\n",
    "Similarly, in the *discrete* case,\n",
    "\n",
    "$$\n",
    "\\mathbb{E}[X] = \\sum_i^N p_i x_i \\ ,\n",
    "$$\n",
    "\n",
    "The expectation represents the average of all the possible values the random variable can assume, where such average is intended as a weighted average with the probability of each such outcomes. \n",
    "\n",
    "The expected value is typically indicated with $\\mu$. Note that the arithmetic mean, done one a sample of the data, is an estimator of the (theoretical) expected value in that it is its representation when the whole population is not known."
   ]
  },
  {
   "cell_type": "markdown",
   "metadata": {
    "deletable": true,
    "editable": true
   },
   "source": [
    "### Linearity of the expected value\n",
    "\n",
    "The expected value is a linear operator:\n",
    "\n",
    "$$\n",
    "\\mathbb{E}[aX + bY] = a\\mathbb{E}[X] + b \\mathbb{E}[Y]\n",
    "$$\n",
    "\n",
    "*Proof*\n",
    "\n",
    "We will prove this in the continuous case but it is clearly easily extensible.\n",
    "\n",
    "$$\n",
    "\\begin{align}\n",
    "\\mathbb{E}[aX + bY] &= \\int_{\\Omega_X}\\limits \\int_{\\Omega_Y}\\limits \\text{d} x \\ \\text{d} y \\ (ax + by) p(x, y) \\\\\n",
    "&= a \\int_{\\Omega_X}\\limits \\int_{\\Omega_Y}\\limits \\text{d} x \\ \\text{d} y \\ x p(x, y) + b \\int_{\\Omega_X}\\limits \\int_{\\Omega_Y}\\limits \\text{d} x \\ \\text{d} y \\ y p(x, y) \\\\\n",
    "&= a \\int_{\\Omega_X}\\limits \\text{d} x \\ x p(x) + b \\int_{\\Omega_Y}\\limits \\text{d} y \\ y p(y) \\\\\n",
    "&= a\\mathbb{E}[X] + b \\mathbb{E}[Y]\n",
    "\\end{align}\n",
    "$$\n",
    "\n",
    "This is because $p(x) = \\int_{\\Omega_Y}\\limits\\text{d} y \\  x p(x, y)$ because we are effectively summing the PDFs over all the possible values of $Y$, hence eliminating the dependency from this random variable. Analogously the other one."
   ]
  },
  {
   "cell_type": "markdown",
   "metadata": {
    "deletable": true,
    "editable": true
   },
   "source": [
    "## Variance and standard deviation"
   ]
  },
  {
   "cell_type": "markdown",
   "metadata": {
    "deletable": true,
    "editable": true
   },
   "source": [
    "The variance is the expected value of the squared difference from the expectation:\n",
    "\n",
    "$$\n",
    "Var[X] = \\mathbb{E}[(X - \\mathbb{E}[X])^2] =  \\int_{\\Omega_X} \\text{d} x \\ (x - \\mathbb{E}[X])^2 p(x)\n",
    "$$\n",
    "\n",
    "The variance is the second moment around the mean. It is typically indicated as $\\sigma^2$, $\\sigma$ being the **standard deviation**, which gives the measure of error of values from the mean."
   ]
  },
  {
   "cell_type": "markdown",
   "metadata": {
    "deletable": true,
    "editable": true
   },
   "source": [
    "### Rewriting the variance\n",
    "\n",
    "We can also write the variance as\n",
    "\n",
    "$$\n",
    "Var[X] = \\mathbb{E}[X^2] - \\big(\\mathbb{E}[X]\\big)^2\n",
    "$$\n",
    "\n",
    "*Proof*\n",
    "\n",
    "$$\n",
    "\\begin{align}\n",
    "Var[X] &= \\mathbb{E}[(X - \\mu)^2] \\\\\n",
    "&= \\int_{\\Omega_X} \\text{d}x \\ (x^2 - 2 \\mu x + \\mu^2) p(x) \\\\\n",
    "&= \\int_{\\Omega_X} \\text{d}x \\ x^2 p(x) -2 \\mu \\int_{\\Omega_X} \\text{d}x \\ x p(x) + \\mu^2 \\int_{\\Omega_X} \\text{d} x p(x) \\\\\n",
    "&= \\mathbb{E}[X^2] - 2 \\mu^2 + \\mu^2 \\\\\n",
    "&= \\mathbb{E}[X^2] - \\big(\\mathbb{E}[X]\\big)^2\n",
    "\\end{align}\n",
    "$$"
   ]
  },
  {
   "cell_type": "markdown",
   "metadata": {
    "deletable": true,
    "editable": true
   },
   "source": [
    "### The variance is not linear\n",
    "\n",
    "In fact, using the linearity of the expectation\n",
    "\n",
    "$$\n",
    "\\begin{align}\n",
    "Var[aX] &= \\mathbb{E}[(aX)^2] - \\big( \\mathbb{E}[aX] \\big)^2 \\\\\n",
    "&= a^2 \\mathbb{E}[X^2] - (a^2 \\mu^2)\n",
    "\\end{align}\n",
    "$$"
   ]
  },
  {
   "cell_type": "markdown",
   "metadata": {
    "deletable": true,
    "editable": true
   },
   "source": [
    "## General definitions of moments\n",
    "\n",
    "\n",
    "The $n$-th **raw moment** is the expected value of the $n$-th power of the random variable:\n",
    "\n",
    "$$\n",
    "\\boxed{\\mu_n' = \\int \\text{d} x \\ x^n p(x)}\n",
    "$$\n",
    "\n",
    "The expected value is then the first raw moment.\n",
    "\n",
    "\n",
    "The $n$-th **central moment** around the mean is defined as\n",
    "\n",
    "$$\n",
    "\\boxed{\\mu_n = \\int \\text{d} x (x-\\mu)^n p(x)}\n",
    "$$\n",
    "\n",
    "The variance is the second central moment around the mean.\n",
    "\n",
    "Moments get standardises (normalised) by dividing for the appropriate power of the standard deviation. The $n$-th **standardised moment** is the central moment divided by standard deviation with the same order power:\n",
    "\n",
    "$$\n",
    "\\boxed{\\tilde \\mu_n = \\frac{\\mu_n}{\\sigma^n}}\n",
    "$$"
   ]
  },
  {
   "cell_type": "markdown",
   "metadata": {
    "deletable": true,
    "editable": true
   },
   "source": [
    "## Skeweness"
   ]
  },
  {
   "cell_type": "markdown",
   "metadata": {
    "deletable": true,
    "editable": true
   },
   "source": [
    "The **skeweness** is the third standardised moment:\n",
    "\n",
    "$$\n",
    "\\gamma = \\frac{\\mathbb{E}[(X-\\mu)^3]}{\\sigma^3}\n",
    "$$\n",
    "\n",
    "The skeweness quantifies how symmetrical a distribution is around the mean: it is zero in the case of a perfectly symmetrical shape. It is positive if the distribution is skewed on the right, that is, if the right tail is heavier than the left one; it is negative if it is skewed on the left, meaning the left tail is heavier than the right one."
   ]
  },
  {
   "cell_type": "markdown",
   "metadata": {
    "deletable": true,
    "editable": true
   },
   "source": [
    "## Kurtosis\n",
    "\n",
    "The **kurtosis** is the fourth standardised moment:\n",
    "\n",
    "$$\n",
    "\\kappa = \\frac{\\mu_4}{\\sigma^4}\n",
    "$$\n",
    "\n",
    "It measures how heavy the tail of a distribution is with respect to a gaussian with the same $\\sigma$.\n",
    "\n",
    "> TODO excess kurtosis and expand"
   ]
  },
  {
   "cell_type": "markdown",
   "metadata": {
    "deletable": true,
    "editable": true
   },
   "source": [
    "## Further results"
   ]
  },
  {
   "cell_type": "markdown",
   "metadata": {
    "deletable": true,
    "editable": true
   },
   "source": [
    "### Variance of a matrix of constants times a random vector"
   ]
  },
  {
   "cell_type": "markdown",
   "metadata": {
    "collapsed": true,
    "deletable": true,
    "editable": true
   },
   "source": [
    "In general, with a matrix of constants $\\mathbf{X}$ and a vector of observations (random variables) $\\mathbf{a}$, using the linearity of the expected value so that $\\mathbb{E}[\\mathbf{X a}] = \\mathbf{X} \\mathbb{E}[\\mathbf{a}]$, we have\n",
    "\n",
    "$$\n",
    "\\begin{align}\n",
    "    Var[\\mathbf{X a}] &= \\mathbb{E}[(\\mathbf{X a} - \\mathbb{E}[\\mathbf{X a}])^2] \\\\\n",
    "                      &= \\mathbb{E}[(\\mathbf{X a} - \\mathbb{E}[\\mathbf{X a}])(\\mathbf{X a} - \\mathbb{E}[\\mathbf{X a}])^t] \\\\ \n",
    "                      &= \\mathbb{E}[(\\mathbf{X a} - \\mathbf{X}\\mathbb{E}[\\mathbf{a}])(\\mathbf{X a} - \\mathbf{X}\\mathbb{E}[\\mathbf{a}])^t] \\\\\n",
    "                      &= \\mathbb{E}[(\\mathbf{X a} - \\mathbf{X}\\mathbb{E}[\\mathbf{a}])((\\mathbf{X a})^t - (\\mathbf{X}\\mathbb{E}[\\mathbf{a}])^t)] \\\\\n",
    "                      &= \\mathbb{E}[\\mathbf{Xa}\\mathbf{a}^t\\mathbf{X}^t - \\mathbf{Xa} \\mathbb{E}[\\mathbf{a}]^t \\mathbf{X}^t - \\mathbf{X} \\mathbb{E}[\\mathbf{a}]\\mathbf{a}^t\\mathbf{X}^t + \\mathbf{X} \\mathbb{E}[\\mathbf{a}] \\mathbb{E}[\\mathbf{a}]^t\\mathbf{X}^t] \\\\\n",
    "                      &=  \\mathbf{X} \\mathbb{E}[\\mathbf{a}\\mathbf{a}^t] \\mathbf{X}^t - \\mathbf{X} \\mathbb{E}[\\mathbf{a}] \\mathbb{E}[\\mathbf{a}]^t \\mathbf{X}^t - \\mathbf{X} \\mathbb{E}[\\mathbf{a}] \\mathbb{E}[\\mathbf{a}^t] \\mathbf{X}^t + \\mathbf{X} \\mathbb{E}[\\mathbf{a}] \\mathbb{E}[\\mathbf{a}^t] \\mathbf{X}^t \\\\\n",
    "                      &= \\mathbf{X} \\mathbb{E}[\\mathbf{a}\\mathbf{a}^t] \\mathbf{X}^t - 2 \\mathbf{X} \\mathbb{E}[\\mathbf{a}] \\mathbb{E}[\\mathbf{a}]^t \\mathbf{X}^t + \\mathbf{X} \\mathbb{E}[\\mathbf{a}] \\mathbb{E}[\\mathbf{a}^t] \\mathbf{X}^t = \\\\\n",
    "                      &= \\mathbf{X} (\\mathbb{E}[\\mathbf{a} \\mathbf{a}^t] - \\mathbb{E}[\\mathbf{a}] \\mathbb{E}[\\mathbf{a}^t]) \\mathbf{X}^t = \\\\\n",
    "                      &= \\mathbf{X} Var[\\mathbf{a}] \\mathbf{X}^t\n",
    "\\end{align}\n",
    "$$"
   ]
  },
  {
   "cell_type": "markdown",
   "metadata": {
    "collapsed": true,
    "deletable": true,
    "editable": true
   },
   "source": [
    "> TODO plots"
   ]
  },
  {
   "cell_type": "code",
   "execution_count": null,
   "metadata": {
    "collapsed": true,
    "deletable": true,
    "editable": true
   },
   "outputs": [],
   "source": []
  }
 ],
 "metadata": {
  "kernelspec": {
   "display_name": "Python 3",
   "language": "python",
   "name": "python3"
  },
  "language_info": {
   "codemirror_mode": {
    "name": "ipython",
    "version": 3
   },
   "file_extension": ".py",
   "mimetype": "text/x-python",
   "name": "python",
   "nbconvert_exporter": "python",
   "pygments_lexer": "ipython3",
   "version": "3.6.0"
  }
 },
 "nbformat": 4,
 "nbformat_minor": 2
}
