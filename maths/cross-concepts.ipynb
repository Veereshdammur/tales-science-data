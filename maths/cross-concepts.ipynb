{
 "cells": [
  {
   "cell_type": "code",
   "execution_count": 2,
   "metadata": {},
   "outputs": [
    {
     "data": {
      "text/html": [
       "<style>\n",
       "\n",
       "    /* DOWNLOAD COMPUTER MODERN FONT JUST IN CASE */\n",
       "    @font-face {\n",
       "        font-family: \"Computer Modern\";\n",
       "        src: url('http://9dbb143991406a7c655e-aa5fcb0a5a4ec34cff238a2d56ca4144.r56.cf5.rackcdn.com/cmunss.otf');\n",
       "    }\n",
       "    @font-face {\n",
       "        font-family: \"Computer Modern\";\n",
       "        font-weight: bold;\n",
       "        src: url('http://9dbb143991406a7c655e-aa5fcb0a5a4ec34cff238a2d56ca4144.r56.cf5.rackcdn.com/cmunsx.otf');\n",
       "    }\n",
       "    @font-face {\n",
       "        font-family: \"Computer Modern\";\n",
       "        font-style: oblique;\n",
       "        src: url('http://9dbb143991406a7c655e-aa5fcb0a5a4ec34cff238a2d56ca4144.r56.cf5.rackcdn.com/cmunsi.otf');\n",
       "    }\n",
       "    @font-face {\n",
       "        font-family: \"Computer Modern\";\n",
       "        font-weight: bold;\n",
       "        font-style: oblique;\n",
       "        src: url('http://9dbb143991406a7c655e-aa5fcb0a5a4ec34cff238a2d56ca4144.r56.cf5.rackcdn.com/cmunso.otf');\n",
       "    }\n",
       "\n",
       "    /* GLOBAL TEXT FONT */\n",
       "    div#notebook,\n",
       "    div.output_area pre,\n",
       "    div.output_wrapper,\n",
       "    div.prompt {\n",
       "      font-family: Times new Roman, monospace !important;\n",
       "    }\n",
       "\n",
       "    /* CENTER FIGURE */\n",
       "    .output_png {\n",
       "        display: table-cell;\n",
       "        text-align: center;\n",
       "        vertical-align: middle;\n",
       "    }\n",
       "\n",
       "    /* LINK */\n",
       "    a {\n",
       "        color: #FF8000;\n",
       "    }\n",
       "\n",
       "    /* H1 */\n",
       "    h1 {\n",
       "        font-size: 42px !important;\n",
       "        text-align: center;\n",
       "        color: #FF8000;\n",
       "    }\n",
       "\n",
       "    /* H2 */\n",
       "    h2 {\n",
       "        font-size: 32px !important;\n",
       "    }\n",
       "\n",
       "    /* H2 */\n",
       "    h3 {\n",
       "        font-size: 24px !important;\n",
       "    }\n",
       "\n",
       "    /* H2 */\n",
       "    h4 {\n",
       "        font-size: 20px !important;\n",
       "    }\n",
       "\n",
       "    /* PARAGRAPH */\n",
       "    p {\n",
       "        font-size: 16px !important;\n",
       "        text-align: center;\n",
       "    }\n",
       "\n",
       "    /* LIST ITEM */\n",
       "    li {\n",
       "        font-size: 16px !important;\n",
       "    }\n",
       "\n",
       "</style>\n",
       "\n"
      ],
      "text/plain": [
       "<IPython.core.display.HTML object>"
      ]
     },
     "execution_count": 2,
     "metadata": {},
     "output_type": "execute_result"
    }
   ],
   "source": [
    "%run ../common/import_all.py\n",
    "\n",
    "from common.setup_notebook import set_css_style, setup_matplotlib, config_ipython\n",
    "config_ipython()\n",
    "setup_matplotlib()\n",
    "set_css_style()"
   ]
  },
  {
   "cell_type": "markdown",
   "metadata": {},
   "source": [
    "# Cross-concepts"
   ]
  },
  {
   "cell_type": "markdown",
   "metadata": {},
   "source": [
    "Cross concepts are mathematical concepts shared across multiple fields which are employed in Data Science as well."
   ]
  },
  {
   "cell_type": "markdown",
   "metadata": {},
   "source": [
    "## Entropy\n",
    "\n",
    "In *thermodynamics*, the entropy is defined as\n",
    "\n",
    "$$\n",
    "\\Delta S = \\int \\frac{\\delta q}{T}\n",
    "$$\n",
    "\n",
    "In *statistical mechanics*, Boltzmann gave the definition as a measure of uncertainty and demonstrated that it is equivalent to the thermodynamics definition:\n",
    "\n",
    "*the entropy quantifies the degree to which the probability of the system is spread over different microstates and is proportional to the logarithm of the number of possible microconfigurations which give rise to the macrostate.*\n",
    "\n",
    "Which written down is\n",
    "\n",
    "$$\n",
    "S = -k_B \\sum_i p_i log \\, p_i\n",
    "$$\n",
    "\n",
    "(sum over all the possible microstates, where $p_i$ is the probability of state $i$ to be occupied). The postulate is that the occupation of every microstate is equiprobable.\n",
    "\n",
    "In *Information Theory*, Shannon defined the entropy as a measure of the missing information before the reception of a message:\n",
    "\n",
    "$$\n",
    "H = -\\sum_i p(x_i) \\, log \\, p(x_i)\n",
    "$$\n",
    "\n",
    "where $p(x_i)$ is the probability that character of type $x_i$ in the string of interest. This entropy measures the number of binary (YES/NO) questions needed to determine the content of the message. The link between the statistical mechanics and the information theory concepts is debated. \n",
    "\n",
    "In *Ecology*, defining the diversity index $D$ as the number of different types (species) in a dataset among which individuals are distributed, so that it is maximised when all types are equally abundant, \n",
    "\n",
    "$$\n",
    "D = e^H\n",
    "$$\n",
    "\n",
    "where $H$ is the uncertainty in predicting the species of an individual taken at random from the dataset\n",
    "\n",
    "$$\n",
    "\\begin{aligned}\n",
    "H &= -\\sum_i p_i log \\, p_i \\\\\n",
    "  &= - \\sum_i log \\, p_i^{p_i} \\\\\n",
    "  &= - log(\\Pi_i p_i^{p_i}) \\\\\n",
    "  &= - log\\left(\\frac{1}{\\Pi_i p_i^{p_i}}\\right)\n",
    "\\end{aligned}\n",
    "$$\n",
    "\n",
    "which at the denominator has the weighted geometric mean of the $p_i$. \n",
    "\n",
    "* If all types are equally occupied, $p_i = 1/k \\ \\forall i$, then $H = log(k)$ ($H$ max)\n",
    "* If only one type is present $p_i = 0 \\ \\forall i \\in \\{1, \\ldots, n-1\\}$ and $p_n = 1$, then $H=0$"
   ]
  },
  {
   "cell_type": "code",
   "execution_count": null,
   "metadata": {
    "collapsed": true
   },
   "outputs": [],
   "source": []
  }
 ],
 "metadata": {
  "kernelspec": {
   "display_name": "Python 3",
   "language": "python",
   "name": "python3"
  },
  "language_info": {
   "codemirror_mode": {
    "name": "ipython",
    "version": 3
   },
   "file_extension": ".py",
   "mimetype": "text/x-python",
   "name": "python",
   "nbconvert_exporter": "python",
   "pygments_lexer": "ipython3",
   "version": "3.6.0"
  }
 },
 "nbformat": 4,
 "nbformat_minor": 2
}
