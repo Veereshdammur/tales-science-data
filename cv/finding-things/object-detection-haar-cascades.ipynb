{
 "cells": [
  {
   "cell_type": "code",
   "execution_count": 1,
   "metadata": {},
   "outputs": [
    {
     "data": {
      "text/html": [
       "<style>\n",
       "\n",
       "    /* DOWNLOAD COMPUTER MODERN FONT JUST IN CASE */\n",
       "    @font-face {\n",
       "        font-family: \"Computer Modern\";\n",
       "        src: url('http://9dbb143991406a7c655e-aa5fcb0a5a4ec34cff238a2d56ca4144.r56.cf5.rackcdn.com/cmunss.otf');\n",
       "    }\n",
       "    @font-face {\n",
       "        font-family: \"Computer Modern\";\n",
       "        font-weight: bold;\n",
       "        src: url('http://9dbb143991406a7c655e-aa5fcb0a5a4ec34cff238a2d56ca4144.r56.cf5.rackcdn.com/cmunsx.otf');\n",
       "    }\n",
       "    @font-face {\n",
       "        font-family: \"Computer Modern\";\n",
       "        font-style: oblique;\n",
       "        src: url('http://9dbb143991406a7c655e-aa5fcb0a5a4ec34cff238a2d56ca4144.r56.cf5.rackcdn.com/cmunsi.otf');\n",
       "    }\n",
       "    @font-face {\n",
       "        font-family: \"Computer Modern\";\n",
       "        font-weight: bold;\n",
       "        font-style: oblique;\n",
       "        src: url('http://9dbb143991406a7c655e-aa5fcb0a5a4ec34cff238a2d56ca4144.r56.cf5.rackcdn.com/cmunso.otf');\n",
       "    }\n",
       "\n",
       "    /* GLOBAL TEXT FONT */\n",
       "    div#notebook,\n",
       "    div.output_area pre,\n",
       "    div.output_wrapper,\n",
       "    div.prompt {\n",
       "      font-family: Times new Roman, monospace !important;\n",
       "    }\n",
       "\n",
       "    /* CENTER FIGURE */\n",
       "    .output_png {\n",
       "        display: table-cell;\n",
       "        text-align: center;\n",
       "        vertical-align: middle;\n",
       "    }\n",
       "\n",
       "    /* LINK */\n",
       "    a {\n",
       "        color: #FF8000;\n",
       "    }\n",
       "\n",
       "    /* H1 */\n",
       "    h1 {\n",
       "        font-size: 42px !important;\n",
       "        text-align: center;\n",
       "        color: #FF8000;\n",
       "    }\n",
       "\n",
       "    /* H2 */\n",
       "    h2 {\n",
       "        font-size: 32px !important;\n",
       "    }\n",
       "\n",
       "    /* H2 */\n",
       "    h3 {\n",
       "        font-size: 24px !important;\n",
       "    }\n",
       "\n",
       "    /* H2 */\n",
       "    h4 {\n",
       "        font-size: 20px !important;\n",
       "    }\n",
       "\n",
       "    /* PARAGRAPH */\n",
       "    p {\n",
       "        font-size: 16px !important;\n",
       "        text-align: center;\n",
       "    }\n",
       "\n",
       "    /* LIST ITEM */\n",
       "    li {\n",
       "        font-size: 16px !important;\n",
       "    }\n",
       "\n",
       "</style>\n",
       "\n"
      ],
      "text/plain": [
       "<IPython.core.display.HTML object>"
      ]
     },
     "execution_count": 1,
     "metadata": {},
     "output_type": "execute_result"
    }
   ],
   "source": [
    "%run ../../common/import_all.py\n",
    "\n",
    "from common.setup_notebook import set_css_style, setup_matplotlib, config_ipython\n",
    "config_ipython()\n",
    "setup_matplotlib()\n",
    "set_css_style()"
   ]
  },
  {
   "cell_type": "markdown",
   "metadata": {},
   "source": [
    "# Object Detection: Haar cascades"
   ]
  },
  {
   "cell_type": "markdown",
   "metadata": {},
   "source": [
    "Haar cascades [[1]](#haar) is a method typically used to detect the presence of faces in a image, but it is a general way to detect generic objects. It works by training a cascade function on features extracted from many positive (contain object) and negative (do not contain object) images.\n",
    "\n",
    "<img src=\"../../imgs/haar.pdf\" width=\"500\"/>\n",
    "\n",
    "The Figure illustrates the Haar features: edge features (A); line features (B); four-rectangle features (C). Adjacent rectangular regions of target size are moved over the image, the sum of pixels' intensities under the two (black and white) regions is calculated and then the difference of these, which is compared to a learned threshold. Said threshold  is such to separate object from no-object in the training images. For example, to detect eyes, because the pixels in the eyes regions are darker than those in the cheeks, a line feature with the dark part above would be a good feature.\n",
    "\n",
    "<img src=\"../../imgs/integral-image.pdf\" align=\"left\" width=\"300\" style=\"margin:20px 50px\"/>\n",
    "\n",
    "Because the described procedure would be meant to be run on each subsection of the image, it would be unfeasible. What actually happens is that the algorithm uses *integral images*: 2-dimensional lookup tables containing the sum of pixels in the top-left part of the original image. The Figure on the left illustrates the concept, which can be formulated as \n",
    "\n",
    "$$\n",
    "I(x, y) = \\sum_{x' \\leq x, y' \\leq y} i(x', y') \\ ,\n",
    "$$\n",
    "\n",
    "meaning that the value at point $(x, y)$ in table is the sum of all pixels above and to the left of it. Following the image, the sum would be $D-B-C+A$, where the letters indicate the respective areas top-left of points: only four lookups are then needed,  and here is why this makes everything much faster.\n",
    "\n",
    "This way, a weak classifier is built. Using a large number of other features in a classifier cascade (instead of applying all the features to a window, features are grouped in different stages),  % TODO researhc and explain cascade classifier\n",
    "a strong classifier is created. If the window fails in the first stage, it gets discarded (no remaining features are considered on it); if it passes, the second stage is applied, and so on.\n",
    "\n",
    "Authors of the paper proved a very high accuracy with 600 features and a $95\\%$ accuracy with 200 features. "
   ]
  },
  {
   "cell_type": "markdown",
   "metadata": {},
   "source": [
    "## References\n",
    "\n",
    "1. <a name=\"haar\"></a> P Viola, M Jones, [Rapid object detection using a boosted cascade of simple features](http://www.merl.com/publications/docs/TR2004-043.pdf), *Proceedings of the 2001 IEEE Computer Society Conference on Computer Vision and Pattern Recognition*, 1, 2001"
   ]
  },
  {
   "cell_type": "code",
   "execution_count": null,
   "metadata": {
    "collapsed": true
   },
   "outputs": [],
   "source": []
  }
 ],
 "metadata": {
  "kernelspec": {
   "display_name": "Python 3",
   "language": "python",
   "name": "python3"
  },
  "language_info": {
   "codemirror_mode": {
    "name": "ipython",
    "version": 3
   },
   "file_extension": ".py",
   "mimetype": "text/x-python",
   "name": "python",
   "nbconvert_exporter": "python",
   "pygments_lexer": "ipython3",
   "version": "3.6.0"
  }
 },
 "nbformat": 4,
 "nbformat_minor": 2
}
