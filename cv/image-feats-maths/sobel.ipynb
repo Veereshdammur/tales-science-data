{
 "cells": [
  {
   "cell_type": "code",
   "execution_count": 1,
   "metadata": {},
   "outputs": [
    {
     "data": {
      "text/html": [
       "<style>\n",
       "\n",
       "    /* DOWNLOAD COMPUTER MODERN FONT JUST IN CASE */\n",
       "    @font-face {\n",
       "        font-family: \"Computer Modern\";\n",
       "        src: url('http://9dbb143991406a7c655e-aa5fcb0a5a4ec34cff238a2d56ca4144.r56.cf5.rackcdn.com/cmunss.otf');\n",
       "    }\n",
       "    @font-face {\n",
       "        font-family: \"Computer Modern\";\n",
       "        font-weight: bold;\n",
       "        src: url('http://9dbb143991406a7c655e-aa5fcb0a5a4ec34cff238a2d56ca4144.r56.cf5.rackcdn.com/cmunsx.otf');\n",
       "    }\n",
       "    @font-face {\n",
       "        font-family: \"Computer Modern\";\n",
       "        font-style: oblique;\n",
       "        src: url('http://9dbb143991406a7c655e-aa5fcb0a5a4ec34cff238a2d56ca4144.r56.cf5.rackcdn.com/cmunsi.otf');\n",
       "    }\n",
       "    @font-face {\n",
       "        font-family: \"Computer Modern\";\n",
       "        font-weight: bold;\n",
       "        font-style: oblique;\n",
       "        src: url('http://9dbb143991406a7c655e-aa5fcb0a5a4ec34cff238a2d56ca4144.r56.cf5.rackcdn.com/cmunso.otf');\n",
       "    }\n",
       "\n",
       "    /* GLOBAL TEXT FONT */\n",
       "    div#notebook,\n",
       "    div.output_area pre,\n",
       "    div.output_wrapper,\n",
       "    div.prompt {\n",
       "      font-family: Times new Roman, monospace !important;\n",
       "    }\n",
       "\n",
       "    /* CENTER FIGURE */\n",
       "    .output_png {\n",
       "        display: table-cell;\n",
       "        text-align: center;\n",
       "        vertical-align: middle;\n",
       "    }\n",
       "\n",
       "    /* LINK */\n",
       "    a {\n",
       "        color: #FF8000;\n",
       "    }\n",
       "\n",
       "    /* H1 */\n",
       "    h1 {\n",
       "        font-size: 42px !important;\n",
       "        text-align: center;\n",
       "        color: #FF8000;\n",
       "    }\n",
       "\n",
       "    /* H2 */\n",
       "    h2 {\n",
       "        font-size: 32px !important;\n",
       "    }\n",
       "\n",
       "    /* H2 */\n",
       "    h3 {\n",
       "        font-size: 24px !important;\n",
       "    }\n",
       "\n",
       "    /* H2 */\n",
       "    h4 {\n",
       "        font-size: 20px !important;\n",
       "    }\n",
       "\n",
       "    /* PARAGRAPH */\n",
       "    p {\n",
       "        font-size: 16px !important;\n",
       "        text-align: center;\n",
       "    }\n",
       "\n",
       "    /* LIST ITEM */\n",
       "    li {\n",
       "        font-size: 16px !important;\n",
       "    }\n",
       "\n",
       "</style>\n",
       "\n"
      ],
      "text/plain": [
       "<IPython.core.display.HTML object>"
      ]
     },
     "execution_count": 1,
     "metadata": {},
     "output_type": "execute_result"
    }
   ],
   "source": [
    "%run ../../common/import_all.py\n",
    "\n",
    "from common.setup_notebook import set_css_style, setup_matplotlib, config_ipython\n",
    "config_ipython()\n",
    "setup_matplotlib()\n",
    "set_css_style()"
   ]
  },
  {
   "cell_type": "markdown",
   "metadata": {},
   "source": [
    "# The Sobel operator"
   ]
  },
  {
   "cell_type": "markdown",
   "metadata": {},
   "source": [
    "The Sobel (or Sobel-Feldman) operator [[1]](#sobel) is an operator used as a filter to create an image with emphasized edges. It is a discrete differentiation operator: computes an approximation of the gradient of the image density function .\n",
    "\n",
    "The algorithm consists in [convolving](../../maths/functions.ipynb#Matrix-Convolution) the image with a filter in both directions. Two kernels, $K_x$ and $K_y$, are convolved with the image matrix to calculate approximations of the derivative in the two directions:\n",
    "\n",
    "$$\n",
    "K_x = \n",
    "\t\\begin{bmatrix}\n",
    "    -1 & 0 & 1 \\\\\n",
    "    -2 & 0 & 2 \\\\\n",
    "    -1 & 0 & 1\n",
    "\t\\end{bmatrix} ,  \\ \\ \\ \n",
    "K_y =\n",
    "\t\\begin{bmatrix}\n",
    "    -1 & -2 & -1 \\\\\n",
    "    0 & 0 & 0 \\\\\n",
    "    1 & 2 & 1\n",
    "\t\\end{bmatrix}\n",
    "$$\n",
    "\n",
    "The convolution is applied at each point of the image, so that the matrix convolved with the kernel is the $3 X 3$ matrix centered on the point under consideration.\n",
    "\n",
    "$K_x$ and $K_y$ represent the change in the $x$ and $y$ directions, respectively. They can both decomposed as the product of an averaging and a differentiation kernels, so that for instance\n",
    "\n",
    "$$\n",
    "K_x = \n",
    "\t\\begin{bmatrix}\n",
    "    1\\\\\n",
    "    2\\\\\n",
    "    1\n",
    "\t\\end{bmatrix}\n",
    "    \\begin{bmatrix}\n",
    "    -1 & 0 & 1\n",
    "\t\\end{bmatrix}\n",
    "$$\n",
    "\n",
    "This means they compute the gradient with smoothing. \n",
    "\n",
    "The gradient magnitude\n",
    "\n",
    "$$\n",
    "K = \\sqrt{K_x^2 + K_y^2}\n",
    "$$\n",
    "\n",
    "is computed at each point of the image, as well as the gradient direction\n",
    "\n",
    "$$\n",
    "\\theta = \\arctan{(K_y, K_x)} \\ .\n",
    "$$"
   ]
  },
  {
   "cell_type": "markdown",
   "metadata": {},
   "source": [
    "## References\n",
    "\n",
    "1. <a name=\"sobel\"></a> I Sobel, [**An isotropic 3×3 image gradient operator**](https://www.researchgate.net/publication/239398674_An_Isotropic_3_3_Image_Gradient_Operator), *Machine Vision for three-demensional Sciences*, 1990"
   ]
  },
  {
   "cell_type": "code",
   "execution_count": null,
   "metadata": {
    "collapsed": true
   },
   "outputs": [],
   "source": []
  }
 ],
 "metadata": {
  "kernelspec": {
   "display_name": "Python 3",
   "language": "python",
   "name": "python3"
  },
  "language_info": {
   "codemirror_mode": {
    "name": "ipython",
    "version": 3
   },
   "file_extension": ".py",
   "mimetype": "text/x-python",
   "name": "python",
   "nbconvert_exporter": "python",
   "pygments_lexer": "ipython3",
   "version": "3.6.0"
  }
 },
 "nbformat": 4,
 "nbformat_minor": 2
}
