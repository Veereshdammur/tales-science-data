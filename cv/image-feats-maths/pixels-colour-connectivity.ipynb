{
 "cells": [
  {
   "cell_type": "code",
   "execution_count": 2,
   "metadata": {},
   "outputs": [
    {
     "data": {
      "text/html": [
       "<style>\n",
       "\n",
       "    /* DOWNLOAD COMPUTER MODERN FONT JUST IN CASE */\n",
       "    @font-face {\n",
       "        font-family: \"Computer Modern\";\n",
       "        src: url('http://9dbb143991406a7c655e-aa5fcb0a5a4ec34cff238a2d56ca4144.r56.cf5.rackcdn.com/cmunss.otf');\n",
       "    }\n",
       "    @font-face {\n",
       "        font-family: \"Computer Modern\";\n",
       "        font-weight: bold;\n",
       "        src: url('http://9dbb143991406a7c655e-aa5fcb0a5a4ec34cff238a2d56ca4144.r56.cf5.rackcdn.com/cmunsx.otf');\n",
       "    }\n",
       "    @font-face {\n",
       "        font-family: \"Computer Modern\";\n",
       "        font-style: oblique;\n",
       "        src: url('http://9dbb143991406a7c655e-aa5fcb0a5a4ec34cff238a2d56ca4144.r56.cf5.rackcdn.com/cmunsi.otf');\n",
       "    }\n",
       "    @font-face {\n",
       "        font-family: \"Computer Modern\";\n",
       "        font-weight: bold;\n",
       "        font-style: oblique;\n",
       "        src: url('http://9dbb143991406a7c655e-aa5fcb0a5a4ec34cff238a2d56ca4144.r56.cf5.rackcdn.com/cmunso.otf');\n",
       "    }\n",
       "\n",
       "    /* GLOBAL TEXT FONT */\n",
       "    div#notebook,\n",
       "    div.output_area pre,\n",
       "    div.output_wrapper,\n",
       "    div.prompt {\n",
       "      font-family: Times new Roman, monospace !important;\n",
       "    }\n",
       "\n",
       "    /* CENTER FIGURE */\n",
       "    .output_png {\n",
       "        display: table-cell;\n",
       "        text-align: center;\n",
       "        vertical-align: middle;\n",
       "    }\n",
       "\n",
       "    /* LINK */\n",
       "    a {\n",
       "        color: #FF8000;\n",
       "    }\n",
       "\n",
       "    /* H1 */\n",
       "    h1 {\n",
       "        font-size: 42px !important;\n",
       "        text-align: center;\n",
       "        color: #FF8000;\n",
       "    }\n",
       "\n",
       "    /* H2 */\n",
       "    h2 {\n",
       "        font-size: 32px !important;\n",
       "    }\n",
       "\n",
       "    /* H2 */\n",
       "    h3 {\n",
       "        font-size: 24px !important;\n",
       "    }\n",
       "\n",
       "    /* H2 */\n",
       "    h4 {\n",
       "        font-size: 20px !important;\n",
       "    }\n",
       "\n",
       "    /* PARAGRAPH */\n",
       "    p {\n",
       "        font-size: 16px !important;\n",
       "        text-align: center;\n",
       "    }\n",
       "\n",
       "    /* LIST ITEM */\n",
       "    li {\n",
       "        font-size: 16px !important;\n",
       "    }\n",
       "\n",
       "</style>\n",
       "\n"
      ],
      "text/plain": [
       "<IPython.core.display.HTML object>"
      ]
     },
     "execution_count": 2,
     "metadata": {},
     "output_type": "execute_result"
    }
   ],
   "source": [
    "%run ../../common/import_all.py\n",
    "\n",
    "from common.setup_notebook import set_css_style, setup_matplotlib, config_ipython\n",
    "config_ipython()\n",
    "setup_matplotlib()\n",
    "set_css_style()"
   ]
  },
  {
   "cell_type": "markdown",
   "metadata": {},
   "source": [
    "# Pixels, colour space and colour model, pixel connectivity"
   ]
  },
  {
   "cell_type": "markdown",
   "metadata": {},
   "source": [
    "## Pixels"
   ]
  },
  {
   "cell_type": "markdown",
   "metadata": {},
   "source": [
    "A pixel value is given in terms of *colour* or *intensity*. Intensity is used in grayscale, it identifies the brightness of pixels and has a value between $0$ and $255$. For colour you have, for example, the values RGB (a triple) for red, green and blue, each reporting their respective intensities. \n",
    "\n",
    "### The alpha channel\n",
    "\n",
    "In a 32-bit graphic system, 8 bits are used to encode each of the three colours (RGB) and  8 further bits are used for the alpha channel, representing transparency: specifies how colours should be  merged when overlapped."
   ]
  },
  {
   "cell_type": "markdown",
   "metadata": {},
   "source": [
    "## Colour space and colour model"
   ]
  },
  {
   "cell_type": "markdown",
   "metadata": {},
   "source": [
    "A *colour space* describes the organisation of colours, a *colour model* is a way to represent colours as tuples of numbers. For example, Adobe RGB and sRGB are  two different colour spaces, both based on the RGB colour model.\n",
    "\n",
    "### Colour model\n",
    "\n",
    "<figure style=\"float:left;\">\n",
    "  <img src=\"../../imgs/HSV.png\" width=\"300\" align=\"left\" style=\"margin:50px 50px\"/>\n",
    "  <figcaption> Figure from <a href=\"https://commons.wikimedia.org/wiki/File:HSV_color_solid_cylinder_alpha_lowgamma.png\">Wikipedia</a></figcaption>\n",
    "</figure>\n",
    "\n",
    "There are five major colour models:\n",
    "\n",
    "* **CIE** (1931, was created by the International Commission on Illumination, or CIE, from its French name): was the first attempt to link the wavelengths (pure colours) to the colours as perceived by humans. It uses the tristimulus values: the human eye has three kinds of cone cells, each of which has the peak of sensitivity for light at a given wavelength, so three parameters can be used, corresponding to the levels of the stimuli to the three types of cells.\n",
    "* **RGB** (red, green, blue): describes what light produces a given colour. Several colour spaces can be derived from this model.\n",
    "* **YUV** (luma plus chroma): it is built with a luma (brightness, achromatic) value and two chroma (colour information) values. **YPbPr** is its scaled version and **YCbCr** is its scaled digital version.\n",
    "* **HSV**, also known as **HSB** (hue, saturation, value/brightness): is a coordinate transformation of RGB (a cube) into a cylindrical space. Note  that there is also **HSL** (L for lightness), which is similar. The hue is defined as the  degree to which a stimulus can be described as similar tor different t o the unique hues (red, green, blue and yellow, those perceived as pure by an observer). The saturation is a measure of intensity: it represents the colourfullness of a colour relative to its brightness. The value, or brightness, contains no colour information. The HSV space is a cylinder: $H \\in [0,359], S,V \\in [0,100]$.\n",
    "* **CMYK** (cyan, magenta, yellow, key -black-):  it is used in printing, describes what inks need to be used so that the reflected light produces the given colour\n",
    "\n",
    "\n",
    "### Colour space\n",
    "\n",
    "Colour spaces are:\n",
    "\n",
    "* **LMS** (long/medium/short), where long, medium and short refer to the wavelengths;\n",
    "* **XYZ**: humans perceive light  in the green (medium) part of the electromagnetic spectrum  as brighter than those in the red (long) and the blue (short) parts of the spectrum.  Y is the *luminance*;  Z the *blue stimulation*; X is a linear combination of the cone responses. So, at fixed X, the plane XZ contains all the  cromaticities at that luminance. The cromaticity is the quality of colour regardless of luminance and is given by hue and saturation."
   ]
  },
  {
   "cell_type": "markdown",
   "metadata": {},
   "source": [
    "## Pixel connectivity"
   ]
  },
  {
   "cell_type": "markdown",
   "metadata": {},
   "source": [
    "<img src=\"../../imgs/pixel-conn.jpg\" width=\"300\" align=\"left\" style=\"margin:0px 50px\"/>\n",
    "\n",
    "Pixel connectivity is the way pixels relate to neighbours, and there's two ways we can define it:\n",
    "\n",
    "* **4-line**: each pixel is connected to all those which touch one of their edges\n",
    "* **8-line**: each pixels is connected to all those which touch their edges and corners"
   ]
  },
  {
   "cell_type": "code",
   "execution_count": null,
   "metadata": {
    "collapsed": true
   },
   "outputs": [],
   "source": []
  }
 ],
 "metadata": {
  "kernelspec": {
   "display_name": "Python 3",
   "language": "python",
   "name": "python3"
  },
  "language_info": {
   "codemirror_mode": {
    "name": "ipython",
    "version": 3
   },
   "file_extension": ".py",
   "mimetype": "text/x-python",
   "name": "python",
   "nbconvert_exporter": "python",
   "pygments_lexer": "ipython3",
   "version": "3.6.0"
  }
 },
 "nbformat": 4,
 "nbformat_minor": 2
}
