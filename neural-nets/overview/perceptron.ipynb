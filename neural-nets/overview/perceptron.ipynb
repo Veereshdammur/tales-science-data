{
 "cells": [
  {
   "cell_type": "code",
   "execution_count": 1,
   "metadata": {},
   "outputs": [
    {
     "data": {
      "text/html": [
       "<style>\n",
       "\n",
       "    /* DOWNLOAD COMPUTER MODERN FONT JUST IN CASE */\n",
       "    @font-face {\n",
       "        font-family: \"Computer Modern\";\n",
       "        src: url('http://9dbb143991406a7c655e-aa5fcb0a5a4ec34cff238a2d56ca4144.r56.cf5.rackcdn.com/cmunss.otf');\n",
       "    }\n",
       "    @font-face {\n",
       "        font-family: \"Computer Modern\";\n",
       "        font-weight: bold;\n",
       "        src: url('http://9dbb143991406a7c655e-aa5fcb0a5a4ec34cff238a2d56ca4144.r56.cf5.rackcdn.com/cmunsx.otf');\n",
       "    }\n",
       "    @font-face {\n",
       "        font-family: \"Computer Modern\";\n",
       "        font-style: oblique;\n",
       "        src: url('http://9dbb143991406a7c655e-aa5fcb0a5a4ec34cff238a2d56ca4144.r56.cf5.rackcdn.com/cmunsi.otf');\n",
       "    }\n",
       "    @font-face {\n",
       "        font-family: \"Computer Modern\";\n",
       "        font-weight: bold;\n",
       "        font-style: oblique;\n",
       "        src: url('http://9dbb143991406a7c655e-aa5fcb0a5a4ec34cff238a2d56ca4144.r56.cf5.rackcdn.com/cmunso.otf');\n",
       "    }\n",
       "\n",
       "    /* GLOBAL TEXT FONT */\n",
       "    div#notebook,\n",
       "    div.output_area pre,\n",
       "    div.output_wrapper,\n",
       "    div.prompt {\n",
       "      font-family: Times new Roman, monospace !important;\n",
       "    }\n",
       "\n",
       "    /* CENTER FIGURE */\n",
       "    .output_png {\n",
       "        display: table-cell;\n",
       "        text-align: center;\n",
       "        vertical-align: middle;\n",
       "    }\n",
       "\n",
       "    /* LINK */\n",
       "    a {\n",
       "        color: #FF8000;\n",
       "    }\n",
       "\n",
       "    /* H1 */\n",
       "    h1 {\n",
       "        font-size: 42px !important;\n",
       "        text-align: center;\n",
       "        color: #FF8000;\n",
       "    }\n",
       "\n",
       "    /* H2 */\n",
       "    h2 {\n",
       "        font-size: 32px !important;\n",
       "    }\n",
       "\n",
       "    /* H2 */\n",
       "    h3 {\n",
       "        font-size: 24px !important;\n",
       "    }\n",
       "\n",
       "    /* H2 */\n",
       "    h4 {\n",
       "        font-size: 20px !important;\n",
       "    }\n",
       "\n",
       "    /* PARAGRAPH */\n",
       "    p {\n",
       "        font-size: 16px !important;\n",
       "        text-align: center;\n",
       "    }\n",
       "\n",
       "    /* LIST ITEM */\n",
       "    li {\n",
       "        font-size: 16px !important;\n",
       "    }\n",
       "\n",
       "</style>\n",
       "\n"
      ],
      "text/plain": [
       "<IPython.core.display.HTML object>"
      ]
     },
     "execution_count": 1,
     "metadata": {},
     "output_type": "execute_result"
    }
   ],
   "source": [
    "%run ../../common/import_all.py\n",
    "\n",
    "from common.setup_notebook import set_css_style, setup_matplotlib, config_ipython\n",
    "config_ipython()\n",
    "setup_matplotlib()\n",
    "set_css_style()"
   ]
  },
  {
   "cell_type": "markdown",
   "metadata": {},
   "source": [
    "# The perceptron"
   ]
  },
  {
   "cell_type": "markdown",
   "metadata": {
    "collapsed": true
   },
   "source": [
    "The perceptron is (one of?) the very first algorithms for artificial neural networks, it was developed in 1957 at a [Cornell lab](https://en.wikipedia.org/wiki/Calspan) funded by the US Navy, by Rosenblatt, a psychologist who was a pioneer in the field of Artificial Intelligence, and [published](#rosenblatt). It was immediately advertised with lots of fanfare and great expectations (the NY Times at that time published [an article](#nyt), boldly describing it as a machine which could think and learn on its own), and then the interest in it declined due to the unfeasability of many tasks it was supposed to tackle. Interest in it, and in Artificial Intelligence in general declined gradually, leading to what is known as the \"AI winter\". In fact, Minsky and Papert in 1969 published a [seminal book](#minskypapert) that proved the perceptron wasn't as powerful as it was supposed to be. Have a look a [this article](#article) for a nice outline of the history of this algorithm.\n",
    "\n",
    "We put the perceptron in this chapter, instead of in the chapter about the types of networks, because it is such an important topic that it is essential to understand the choice of activation functions and learning. Also, the perceptron furnishes the basis for understanding how artificial neurons work in a general sense. "
   ]
  },
  {
   "cell_type": "markdown",
   "metadata": {},
   "source": [
    "## How it works"
   ]
  },
  {
   "cell_type": "markdown",
   "metadata": {},
   "source": [
    "<figure style=\"float:left;\">\n",
    "  <img src=\"../../imgs/perceptron.png\" width=\"400\" align=\"left\" style=\"margin:20px 50px\"/>\n",
    "  <figcaption>Image from [the book by M Nielsen](#book), which inspired most of the writing here.</figcaption>\n",
    "</figure>\n",
    "\n",
    "The way a perceptron works is rather simple, yet quite ingenious. You have the representation of a neuron as per figure, where a series of binary input values $(x_1, x_2, \\ldots, x_n)$ come in and an output is out. Inputs can be weighted differently, so that weights $(w_1, w_2, \\ldots, w_n)$ are given. The output will depend on inputs and weights, the inputs being the values which determine a decision, the weights the how important each value is.  \n",
    "\n",
    "The neuron is equipped with a threshold value $t$, or alternatively a bias value $b=-t$, such that the output $o$ is given by the activation\n",
    "\n",
    "$$\n",
    "f = \\begin{cases}\n",
    "0 \\ \\text{ if } \\ w \\cdot x + b \\leq 0\\\\\n",
    "1 \\ \\text{ if } \\ w \\cdot x + b > 0\n",
    "\\end{cases}\n",
    "$$\n",
    "\n",
    "which is to say that the neuron \"fires\" when the dot product of input and weights plus its bias pass 0 (or alternatively when the dot product of weights and inputs passes threshold), a representation of what happens to real neurons when stimulated and producing electrical activity. The bias values makes things such that the larger it is, the easier it will be for the neuron to fire. \n",
    "\n",
    "So the perceptron is pretty much an artificial neuron with activation function given by the Heaviside step function, displayed in the following chart."
   ]
  },
  {
   "cell_type": "code",
   "execution_count": 3,
   "metadata": {},
   "outputs": [
    {
     "data": {
      "image/png": "[encoded data removed]",
      "text/plain": [
       "<matplotlib.figure.Figure at 0x111237710>"
      ]
     },
     "metadata": {
      "image/png": {
       "height": 396,
       "width": 622
      }
     },
     "output_type": "display_data"
    }
   ],
   "source": [
    "x = np.arange(-10, 10, 1)\n",
    "y = []\n",
    "for item in x:\n",
    "    value = 0 if item <= 0 else 1\n",
    "    y.append(value)\n",
    "\n",
    "plt.step(x, y)\n",
    "plt.xlim(-10, 10)\n",
    "plt.xlabel('$x$')\n",
    "plt.ylabel('$y$')\n",
    "plt.title('The Heaviside step function')\n",
    "plt.show();"
   ]
  },
  {
   "cell_type": "markdown",
   "metadata": {},
   "source": [
    "### An example: a NAND gate\n",
    "\n",
    "You can represent a NAND gate with a perceptron. A NAND gate has truth table ($X$ and $Y$ being the inputs, $o$ the output):\n",
    "\n",
    "| X         | Y           | o      |\n",
    "| :-------: |:-----------:| :-----:|\n",
    "| 0         | 0 | 1 |\n",
    "| 0         | 1 | 1 |\n",
    "| 1         | 0 | 1 |\n",
    "| 1         | 1 | 0 |\n",
    "\n",
    "You can quickly obtain it with a perceptron, for example (again from [Nielsen's book](#1)) with weights $w_1=w_2=-2$ and bias $b=3$. I've done it in [this repo](#3)."
   ]
  },
  {
   "cell_type": "markdown",
   "metadata": {},
   "source": [
    "## Learning\n",
    "\n",
    "The perceptron is an ingenious mechanism, but rather difficult to use for learning in a typical case. Due to the activation function being a step, a small modification to the input will produce a jump in the output, making it rather clunky to tune for a general problems. You can use it for learning things, but you have to painstakingly work on the features you inject, this [video](#coursera) from a course by G Hinton is worth a watch. More interesting activations are indeed used these days, you can find a discussion on the activations page in this section.\n",
    "\n",
    "However, let's not give the impression that the perceptron is useless. It still an awesome idea, and good enough for some applications. This [page on Applied Go](https://appliedgo.net/perceptron/) gives a very nice introduction to it and its use in a binary classification task (with Go code!).  "
   ]
  },
  {
   "cell_type": "markdown",
   "metadata": {},
   "source": [
    "## Multilayer Perceptron and pint of salt\n",
    "\n",
    "A multilayer perceptron (MLP) is a term used for a network with 3 layers and a feedforward architecture. The activations used in the neurons are not necessarily Heaviside as for the perceptron neuron, and this creates a bit of confusion! Consult [Wikipedia](https://en.wikipedia.org/wiki/Multilayer_perceptron). "
   ]
  },
  {
   "cell_type": "markdown",
   "metadata": {},
   "source": [
    "## References"
   ]
  },
  {
   "cell_type": "markdown",
   "metadata": {},
   "source": [
    "1. <a name=\"rosenblatt\"></a> F Rosenblatt, **Principles of neurodynamics, perceptrons and the theory of brain mechanisms**, No. VG-1196-G-8. *Cornell Aeronautical Lab*, 1961\n",
    "2. <a name=\"nyt\"></a> [**New Navy device learns by doing; Psychologist Shows Embryo of Computer Designed to Read and Grow Wiser**](http://www.nytimes.com/1958/07/08/archives/new-navy-device-learns-by-doing-psychologist-shows-embryo-of.htm), *New York Times*, July 1958\n",
    "3. <a name=\"article\"></a> D Hernandez, [**The thinking computer that was supposed to colonize space**](http://fusion.net/story/54904/thinking-computer-perceptron/?curator=MediaREDEF), 2015\n",
    "4. <a name=\"minskypapert\"></a> M Minsky, S Papert, **Perceptrons**, 1969 \n",
    "5. <a name=\"book\"></a> M Nielsen, [**Neural Networks and Deep Learning**](http://neuralnetworksanddeeplearning.com/chap1.html#perceptrons), 2017\n",
    "6. <a name=\"coursera\"></a> [**What perceptrons can't do**](https://www.coursera.org/learn/neural-networks/lecture/SUTuA/what-perceptrons-can-t-do-15-min), on Coursera, video from lectures by G Hinton, University of Toronto \n",
    "7. <a name=\"go\"></a> [**Perceptron: the most basic form of a neural network**](https://appliedgo.net/perceptron/), Applied Go"
   ]
  },
  {
   "cell_type": "code",
   "execution_count": null,
   "metadata": {},
   "outputs": [],
   "source": []
  }
 ],
 "metadata": {
  "gist": {
   "data": {
    "description": "neural-nets/overview/perceptron.ipynb",
    "public": false
   },
   "id": ""
  },
  "kernelspec": {
   "display_name": "Python 3",
   "language": "python",
   "name": "python3"
  },
  "language_info": {
   "codemirror_mode": {
    "name": "ipython",
    "version": 3
   },
   "file_extension": ".py",
   "mimetype": "text/x-python",
   "name": "python",
   "nbconvert_exporter": "python",
   "pygments_lexer": "ipython3",
   "version": "3.6.3"
  }
 },
 "nbformat": 4,
 "nbformat_minor": 2
}
